{
 "cells": [
  {
   "cell_type": "markdown",
   "metadata": {},
   "source": [
    "1.\tDisplay a message such as 'Hello World!'.\n"
   ]
  },
  {
   "cell_type": "code",
   "execution_count": 1,
   "metadata": {},
   "outputs": [
    {
     "name": "stdout",
     "output_type": "stream",
     "text": [
      "Hello world\n"
     ]
    }
   ],
   "source": [
    "print('Hello world')"
   ]
  },
  {
   "cell_type": "markdown",
   "metadata": {},
   "source": [
    "2.\tUsing a loop, display your name 10 times."
   ]
  },
  {
   "cell_type": "code",
   "execution_count": 3,
   "metadata": {},
   "outputs": [
    {
     "name": "stdout",
     "output_type": "stream",
     "text": [
      "BobBobBobBobBobBobBobBobBobBob"
     ]
    }
   ],
   "source": [
    "name = 'Bob'\n",
    "for i in range(0,10):\n",
    "    print(name, end='')"
   ]
  },
  {
   "cell_type": "markdown",
   "metadata": {},
   "source": [
    "3.\tAsk the user for their name. Using a loop, display their name 15 times but do not advance to the next line between prints.\n"
   ]
  },
  {
   "cell_type": "code",
   "execution_count": 4,
   "metadata": {},
   "outputs": [
    {
     "name": "stdout",
     "output_type": "stream",
     "text": [
      "BobBobBobBobBobBobBobBobBobBobBobBobBobBobBob"
     ]
    }
   ],
   "source": [
    "name = 'Bob'\n",
    "for i in range(15):\n",
    "    print(name,  end='')"
   ]
  },
  {
   "cell_type": "markdown",
   "metadata": {},
   "source": [
    "4.\tAsk the user for their name. Ask them how many times they would like it to be displayed. Using a loop, display their name this number of times.\n",
    "\n"
   ]
  },
  {
   "cell_type": "code",
   "execution_count": 11,
   "metadata": {},
   "outputs": [
    {
     "name": "stdout",
     "output_type": "stream",
     "text": [
      "cam\n",
      "cam\n",
      "cam\n"
     ]
    }
   ],
   "source": [
    "\n",
    "repeat_num = int(input(\"Enter Number: \")) \n",
    "name = input('Enter Name: ')\n",
    "     \n",
    " \n",
    "for i in range(repeat_num): \n",
    "        print(name) \n",
    " "
   ]
  },
  {
   "cell_type": "markdown",
   "metadata": {},
   "source": [
    "5.\tAsk the user for their name. If it is the same as yours, display a message such as \"Hello Bob.\". Otherwise, display something like \"But, you're not Bob!\".\n"
   ]
  },
  {
   "cell_type": "code",
   "execution_count": 14,
   "metadata": {},
   "outputs": [
    {
     "name": "stdout",
     "output_type": "stream",
     "text": [
      "But your not Cam!!\n"
     ]
    }
   ],
   "source": [
    "name = input('Enter Name: ')\n",
    "my_name = 'Cam'\n",
    "if name == my_name:\n",
    "    print('Hello ' + name)\n",
    "else:\n",
    "    print('But your not ' + my_name + '!!')\n",
    "    "
   ]
  },
  {
   "cell_type": "markdown",
   "metadata": {},
   "source": [
    "6.\tValidation: Ask the user to enter a number. If it is not an integer, keep asking until it is.\n",
    "\n"
   ]
  },
  {
   "cell_type": "code",
   "execution_count": 62,
   "metadata": {},
   "outputs": [
    {
     "name": "stdout",
     "output_type": "stream",
     "text": [
      "10\n"
     ]
    }
   ],
   "source": [
    "# input a number\n",
    "while True:\n",
    "  try:\n",
    "    num = int(input(\"Enter number: \")) # Try this input\n",
    "    break\n",
    "  except ValueError:  #if not number\n",
    "      print(\"Please input integer only...\")  \n",
    "      continue\n",
    "print(num)"
   ]
  },
  {
   "cell_type": "markdown",
   "metadata": {},
   "source": [
    "7.\tCreate a dice roll subroutine that will generate a random number between 1 and 6 (inclusive). The number should be returned by the subroutine. No messages need to be displayed on the screen."
   ]
  },
  {
   "cell_type": "code",
   "execution_count": null,
   "metadata": {},
   "outputs": [],
   "source": []
  },
  {
   "cell_type": "markdown",
   "metadata": {},
   "source": [
    "8.\tModify the dice roll subroutine to accept two parameters. They should indicate the number of dice to roll and the number of sides on the dice. So DiceRoll(3, 8) would roll three, eight sided dice. The result should be returned as a list - even if only one dice was rolled.\n"
   ]
  },
  {
   "cell_type": "code",
   "execution_count": null,
   "metadata": {},
   "outputs": [],
   "source": []
  },
  {
   "cell_type": "markdown",
   "metadata": {},
   "source": [
    "9.\tAsk the user to repeatedly enter a positive number (0 is included). The program should stop when they enter a negative number. Make sure they can only enter numbers.\n",
    "\n"
   ]
  },
  {
   "cell_type": "code",
   "execution_count": null,
   "metadata": {},
   "outputs": [],
   "source": []
  },
  {
   "cell_type": "markdown",
   "metadata": {},
   "source": [
    "10.\tAsk the user to enter a sequence of positive integers. When they enter a negative number, stop. Display the smallest and largest number from the input provided.\n"
   ]
  },
  {
   "cell_type": "code",
   "execution_count": null,
   "metadata": {},
   "outputs": [],
   "source": []
  }
 ],
 "metadata": {
  "kernelspec": {
   "display_name": "Python 3",
   "language": "python",
   "name": "python3"
  },
  "language_info": {
   "codemirror_mode": {
    "name": "ipython",
    "version": 3
   },
   "file_extension": ".py",
   "mimetype": "text/x-python",
   "name": "python",
   "nbconvert_exporter": "python",
   "pygments_lexer": "ipython3",
   "version": "3.11.4"
  },
  "orig_nbformat": 4
 },
 "nbformat": 4,
 "nbformat_minor": 2
}
